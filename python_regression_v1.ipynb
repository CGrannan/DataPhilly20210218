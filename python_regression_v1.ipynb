{
 "cells": [
  {
   "cell_type": "markdown",
   "metadata": {},
   "source": [
    "# Python Rocks!\n",
    "\n",
    "Oliver Will\n",
    "\n",
    "2021-02-18\n",
    "\n",
    "I can check the version of Python from within Jupyter Lab."
   ]
  },
  {
   "cell_type": "code",
   "execution_count": null,
   "metadata": {},
   "outputs": [],
   "source": [
    "from platform import python_version\n",
    "print(python_version())"
   ]
  },
  {
   "cell_type": "markdown",
   "metadata": {},
   "source": [
    "I always check if the namespace is empty."
   ]
  },
  {
   "cell_type": "code",
   "execution_count": null,
   "metadata": {},
   "outputs": [],
   "source": [
    "dir()"
   ]
  },
  {
   "cell_type": "markdown",
   "metadata": {},
   "source": [
    "Not quite sure what's in this namespace but it doesn't look too bad.\n",
    "## Two programming concepts\n",
    "1. Variable assignment\n",
    "2. Functions"
   ]
  },
  {
   "cell_type": "code",
   "execution_count": null,
   "metadata": {},
   "outputs": [],
   "source": [
    "# Example of variable assignment\n",
    "x = 2\n",
    "# Example of function assignment\n",
    "def f(x, y):\n",
    "    ans = x+y\n",
    "    return ans\n",
    "print(x)\n",
    "print(f(2, 3))"
   ]
  },
  {
   "cell_type": "markdown",
   "metadata": {},
   "source": [
    "Python has a method to delete variables and functions"
   ]
  },
  {
   "cell_type": "code",
   "execution_count": null,
   "metadata": {},
   "outputs": [],
   "source": [
    "del x\n",
    "del f\n",
    "dir()"
   ]
  },
  {
   "cell_type": "markdown",
   "metadata": {},
   "source": [
    "## Simulate the first dataset\n",
    "\n",
    "It's easy to get into Markdown in Jupyter and it can handle $LaTex$.\n",
    "\n",
    "We'll create our first data set of 100 data points. \n",
    "\n",
    "Simulate a regression of the form \\begin{equation}y=\\beta_0+\\beta_1 x+\\epsilon\\end{equation}\n",
    "\n",
    "where $\\epsilon \\sim \\text{Normal}(0, \\sigma=2)$.\n",
    "\n",
    "Make it easy and let $\\beta_0 = 5$ and $\\beta_1 = 2$.\n",
    "\n",
    "$x$ will simulated from a $\\text{Normal}(\\mu = 0, \\sigma = 4)$ and $\\epsilon \\sim \\text{Normal}(\\mu = 0, \\sigma = 4)$."
   ]
  },
  {
   "cell_type": "code",
   "execution_count": null,
   "metadata": {},
   "outputs": [],
   "source": [
    "import numpy as np\n",
    "# Use a legacy set seed\n",
    "np.random.seed(4)\n",
    "# See https://numpy.org/doc/stable/reference/random/generated/numpy.random.seed.html \n",
    "# for the modern way to set a seed.\n",
    "x = np.random.normal(0, 4, 100)\n",
    "print(x[:5])\n",
    "y = 5+2*x+np.random.normal(0, 4, 100)\n",
    "print(y[:5])\n",
    "import pandas as pd\n",
    "d = {'x':x\n",
    "    ,'y':y}\n",
    "d = pd.DataFrame(d)\n",
    "print(d)\n",
    "print(d.loc[:, 'x'])"
   ]
  },
  {
   "cell_type": "markdown",
   "metadata": {},
   "source": [
    "Let's plot the data."
   ]
  },
  {
   "cell_type": "code",
   "execution_count": null,
   "metadata": {},
   "outputs": [],
   "source": [
    "d.plot.scatter('x', 'y')"
   ]
  },
  {
   "cell_type": "markdown",
   "metadata": {},
   "source": [
    "Maybe we need to enter the Matlibplot universe."
   ]
  },
  {
   "cell_type": "code",
   "execution_count": null,
   "metadata": {},
   "outputs": [],
   "source": [
    "import matplotlib.pyplot as plt\n",
    "fig=plt.figure()\n",
    "ax=fig.add_axes([0,0,1,1])\n",
    "ax.scatter(d['x'], d['y'])\n",
    "plt.show()"
   ]
  },
  {
   "cell_type": "markdown",
   "metadata": {},
   "source": [
    "Maybe not."
   ]
  },
  {
   "cell_type": "code",
   "execution_count": null,
   "metadata": {},
   "outputs": [],
   "source": [
    "from sklearn import datasets, linear_model\n",
    "from sklearn.metrics import mean_squared_error, r2_score\n",
    "regr = linear_model.LinearRegression()\n",
    "x = d.loc[:,'x'].values.reshape(-1, 1)\n",
    "y = np.array(d['y']).reshape(-1, 1)\n",
    "print(x[1:10])\n",
    "regr.fit(x, y)"
   ]
  },
  {
   "cell_type": "markdown",
   "metadata": {},
   "source": [
    "Add a section on importing and exporting data"
   ]
  },
  {
   "cell_type": "markdown",
   "metadata": {},
   "source": [
    "Add a section on model testing"
   ]
  }
 ],
 "metadata": {
  "kernelspec": {
   "display_name": "Python 3",
   "language": "python",
   "name": "python3"
  },
  "language_info": {
   "codemirror_mode": {
    "name": "ipython",
    "version": 3
   },
   "file_extension": ".py",
   "mimetype": "text/x-python",
   "name": "python",
   "nbconvert_exporter": "python",
   "pygments_lexer": "ipython3",
   "version": "3.8.5"
  }
 },
 "nbformat": 4,
 "nbformat_minor": 4
}
