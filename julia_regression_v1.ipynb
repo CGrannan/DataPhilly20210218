{
 "cells": [
  {
   "cell_type": "markdown",
   "metadata": {},
   "source": [
    "# Julia, what?\n",
    "\n",
    "Oliver Will\n",
    "\n",
    "2021-02-18\n",
    "\n",
    "I always check if the namespace is empty."
   ]
  },
  {
   "cell_type": "code",
   "execution_count": null,
   "metadata": {},
   "outputs": [],
   "source": [
    "varinfo()"
   ]
  },
  {
   "cell_type": "markdown",
   "metadata": {},
   "source": [
    "## Two programming concepts\n",
    "1. Variable assignment\n",
    "2. Functions"
   ]
  },
  {
   "cell_type": "code",
   "execution_count": null,
   "metadata": {},
   "outputs": [],
   "source": [
    "# Example of variable assignment\n",
    "x = 2\n",
    "\n",
    "# Example of function assignment\n",
    "function f(x, y)\n",
    "    x+y\n",
    "end\n",
    "print(string(x)*'\\n')\n",
    "println(f(2, 3))\n",
    "varinfo()"
   ]
  },
  {
   "cell_type": "markdown",
   "metadata": {},
   "source": [
    "There's no easy way to remove variables and functions from the namespace.\n",
    "\n",
    "## Simulate the first dataset\n",
    "\n",
    "It's easy to get into Markdown in Jupyter and it can handle $LaTex$.\n",
    "\n",
    "We create our first data set with 100 points. \n",
    "\n",
    "Simulate a regression of the form \\begin{equation}y=\\beta_0+\\beta_1 x+\\epsilon\\end{equation}\n",
    "\n",
    "where $\\epsilon \\sim \\text{Normal}(0, \\sigma=2)$.\n",
    "\n",
    "Make it easy and let $\\beta_0 = 5$ and $\\beta_1 = 2$.\n",
    "\n",
    "$x$ will simulated from a $\\text{Normal}(\\mu = 0, \\sigma = 4)$ and $\\epsilon \\sim \\text{Normal}(\\mu = 0, \\sigma = 4)$."
   ]
  },
  {
   "cell_type": "code",
   "execution_count": null,
   "metadata": {},
   "outputs": [],
   "source": [
    "import Pkg\n",
    "Pkg.add(\"Distributions\")\n",
    "Pkg.add(\"DataFrames\")\n",
    "Pkg.add(\"Plots\")\n",
    "Pkg.add(\"GLM\")"
   ]
  },
  {
   "cell_type": "code",
   "execution_count": null,
   "metadata": {},
   "outputs": [],
   "source": [
    "using Random, Distributions\n",
    "Random.seed!(4)\n",
    "den = Normal(0, 4)\n",
    "x = rand(den, 100)\n",
    "println(x[1:10])\n",
    "y = 5 .+2*x+rand(den, 100)\n",
    "println(y[1:10])\n",
    "using DataFrames\n",
    "d = DataFrame(x=x, y=y)\n",
    "println(d[1:10,1:2])\n",
    "println(d[1:10, [:x, :y]])"
   ]
  },
  {
   "cell_type": "markdown",
   "metadata": {},
   "source": [
    "Let's plot the data."
   ]
  },
  {
   "cell_type": "code",
   "execution_count": null,
   "metadata": {},
   "outputs": [],
   "source": [
    "using Plots\n",
    "plot(d[!, :x], d[!, :y], seriestype = :scatter)"
   ]
  },
  {
   "cell_type": "markdown",
   "metadata": {},
   "source": [
    "No extra plotting universe, but this is cool."
   ]
  },
  {
   "cell_type": "code",
   "execution_count": null,
   "metadata": {},
   "outputs": [],
   "source": [
    "plot!(d[!, :x], d[!, :y], seriestype = :scatter)\n",
    "d[!, :y] = d[!, :y].+2\n",
    "plot!(d[!, :x], d[!, :y], seriestype = :scatter)"
   ]
  },
  {
   "cell_type": "code",
   "execution_count": null,
   "metadata": {},
   "outputs": [],
   "source": [
    "using GLM\n",
    "fm = lm(@formula(y ~ x), d)"
   ]
  },
  {
   "cell_type": "markdown",
   "metadata": {},
   "source": [
    "Add a section on importing and exporting data"
   ]
  },
  {
   "cell_type": "markdown",
   "metadata": {},
   "source": [
    "Add a section on importing and exporting data"
   ]
  },
  {
   "cell_type": "code",
   "execution_count": null,
   "metadata": {},
   "outputs": [],
   "source": []
  }
 ],
 "metadata": {
  "kernelspec": {
   "display_name": "Julia 1.5.3",
   "language": "julia",
   "name": "julia-1.5"
  },
  "language_info": {
   "file_extension": ".jl",
   "mimetype": "application/julia",
   "name": "julia",
   "version": "1.5.3"
  }
 },
 "nbformat": 4,
 "nbformat_minor": 4
}
