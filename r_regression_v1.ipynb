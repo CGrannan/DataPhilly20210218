{
 "cells": [
  {
   "cell_type": "markdown",
   "metadata": {},
   "source": [
    "# R is Awsome!\n",
    "\n",
    "Oliver Will\n",
    "\n",
    "2021-02-18\n",
    "\n",
    "Anaconda installed R versin 3.6.1. I don't know how to check the version from withing Jupyter Lab. \n",
    "\n",
    "I always check if the namespace is empty."
   ]
  },
  {
   "cell_type": "code",
   "execution_count": null,
   "metadata": {},
   "outputs": [],
   "source": [
    "ls()"
   ]
  },
  {
   "cell_type": "markdown",
   "metadata": {},
   "source": [
    "## Two programming concepts\n",
    "1. Variable assignment\n",
    "2. Functions"
   ]
  },
  {
   "cell_type": "code",
   "execution_count": null,
   "metadata": {},
   "outputs": [],
   "source": [
    "# Example of variables assignment\n",
    "x <- 2\n",
    "# Example of a function assignment\n",
    "f <- function(x, y)\n",
    "    {x+y}\n",
    "x\n",
    "f(2,3)"
   ]
  },
  {
   "cell_type": "markdown",
   "metadata": {},
   "source": [
    "R has a method to delete variables or functions"
   ]
  },
  {
   "cell_type": "code",
   "execution_count": null,
   "metadata": {},
   "outputs": [],
   "source": [
    "rm(x)\n",
    "rm(f)\n",
    "ls()"
   ]
  },
  {
   "cell_type": "markdown",
   "metadata": {},
   "source": [
    "## First dataset\n",
    "\n",
    "It's easy to get into Markdown in Jupyter and it can handle $LaTex$. RStudio has good integration with R markdown, but I rarely use that. \n",
    "\n",
    "We'll create our first data set of 100 data points. \n",
    "\n",
    "Simulate a regression of the form \\begin{equation}y=\\beta_0+\\beta_1 x+\\epsilon\\end{equation}\n",
    "\n",
    "where $\\epsilon \\sim \\text{Normal}(0, \\sigma=2)$.\n",
    "\n",
    "Make it easy and let $\\beta_0 = 5$ and $\\beta_1 = 2$.\n",
    "\n",
    "$x$ will simulated from a $\\text{Normal}(\\mu = 0, \\sigma = 4)$ and $\\epsilon \\sim \\text{Normal}(\\mu = 0, \\sigma = 4)$."
   ]
  },
  {
   "cell_type": "code",
   "execution_count": null,
   "metadata": {},
   "outputs": [],
   "source": [
    "set.seed(4)\n",
    "x <- rnorm(100, 0, 4)\n",
    "y <- 5+2*x+rnorm(100, 0, 4)\n",
    "d <- data.frame(x=x, y=y)\n",
    "head(d)\n",
    "head(d[, \"x\"])"
   ]
  },
  {
   "cell_type": "markdown",
   "metadata": {},
   "source": [
    "Let's plot the data. "
   ]
  },
  {
   "cell_type": "code",
   "execution_count": null,
   "metadata": {},
   "outputs": [],
   "source": [
    "plot(x, y)"
   ]
  },
  {
   "cell_type": "markdown",
   "metadata": {},
   "source": [
    "Maybe we need to enter the Tidyverse?"
   ]
  },
  {
   "cell_type": "code",
   "execution_count": null,
   "metadata": {},
   "outputs": [],
   "source": [
    "library(ggplot2)"
   ]
  },
  {
   "cell_type": "code",
   "execution_count": null,
   "metadata": {},
   "outputs": [],
   "source": [
    "qplot(x, y, data=d )"
   ]
  },
  {
   "cell_type": "code",
   "execution_count": null,
   "metadata": {},
   "outputs": [],
   "source": [
    "fm <- lm(y~x, data=d)\n",
    "summary(fm)\n",
    "cor(x, y)\n",
    "sd(x)\n",
    "sd(y)\n",
    "cor(x, y)*sd(y)/sd(x)\n",
    "plot(x, y)\n",
    "lines(x, predict(fm, d))"
   ]
  },
  {
   "cell_type": "markdown",
   "metadata": {},
   "source": [
    "Add a section on exporting an importing data."
   ]
  },
  {
   "cell_type": "markdown",
   "metadata": {},
   "source": [
    "Add a section on model testing."
   ]
  },
  {
   "cell_type": "code",
   "execution_count": null,
   "metadata": {},
   "outputs": [],
   "source": []
  }
 ],
 "metadata": {
  "kernelspec": {
   "display_name": "R",
   "language": "R",
   "name": "ir"
  },
  "language_info": {
   "codemirror_mode": "r",
   "file_extension": ".r",
   "mimetype": "text/x-r-source",
   "name": "R",
   "pygments_lexer": "r",
   "version": "3.6.1"
  }
 },
 "nbformat": 4,
 "nbformat_minor": 4
}
